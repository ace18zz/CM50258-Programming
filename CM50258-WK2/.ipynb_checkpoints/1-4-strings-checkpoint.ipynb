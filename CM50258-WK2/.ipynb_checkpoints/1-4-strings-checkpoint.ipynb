{
 "cells": [
  {
   "cell_type": "markdown",
   "metadata": {},
   "source": [
    "## 1.4 Strings\n",
    "### More Types\n",
    "We use text a lot in programming too, and we have a special name for this data type; it is called a **string**.\n",
    "\n",
    "Strings in Python are written with a pair of quote symbols. You can use `\"` or `'`, so long as you use the same one at the beginning and end of the string. Python is clever enough to let you use single quotes inside a string terminated with double quotes, or vice versa.\n",
    "\n",
    "Here are some valid Python strings:\n",
    "```python\n",
    "\"This is a string\"\n",
    "'This is also a string'\n",
    "\"Isn't it wonderful that we can use single quotes inside double quotes?\"\n",
    "```\n",
    "\n",
    "We can perform some operations on strings too. If we add two strings then they are *concatenated*:"
   ]
  },
  {
   "cell_type": "code",
   "execution_count": 1,
   "metadata": {},
   "outputs": [
    {
     "data": {
      "text/plain": [
       "'string onestring two'"
      ]
     },
     "execution_count": 1,
     "metadata": {},
     "output_type": "execute_result"
    }
   ],
   "source": [
    "\"string one\" + \"string two\""
   ]
  },
  {
   "cell_type": "markdown",
   "metadata": {},
   "source": [
    "Notice that this operation is literal: it won't insert a space for you if you don't ask for one!\n",
    "\n",
    "We can also multiply a string by a number to repeat a string many times:"
   ]
  },
  {
   "cell_type": "code",
   "execution_count": 2,
   "metadata": {},
   "outputs": [
    {
     "data": {
      "text/plain": [
       "'This course is great! This course is great! This course is great! This course is great! '"
      ]
     },
     "execution_count": 2,
     "metadata": {},
     "output_type": "execute_result"
    }
   ],
   "source": [
    "\"This course is great! \" * 4"
   ]
  },
  {
   "cell_type": "markdown",
   "metadata": {},
   "source": [
    "We can *index* a string using square brackets `[` and `]`. It is common in computer science to start counting sequences from zero, not one. So the first character of a string is element zero, the second character is element one, and so on. So:"
   ]
  },
  {
   "cell_type": "code",
   "execution_count": 3,
   "metadata": {},
   "outputs": [
    {
     "data": {
      "text/plain": [
       "'s'"
      ]
     },
     "execution_count": 3,
     "metadata": {},
     "output_type": "execute_result"
    }
   ],
   "source": [
    "\"string\"[0]"
   ]
  },
  {
   "cell_type": "code",
   "execution_count": 4,
   "metadata": {},
   "outputs": [
    {
     "data": {
      "text/plain": [
       "'t'"
      ]
     },
     "execution_count": 4,
     "metadata": {},
     "output_type": "execute_result"
    }
   ],
   "source": [
    "\"string\"[1]"
   ]
  },
  {
   "cell_type": "code",
   "execution_count": 5,
   "metadata": {},
   "outputs": [
    {
     "data": {
      "text/plain": [
       "'g'"
      ]
     },
     "execution_count": 5,
     "metadata": {},
     "output_type": "execute_result"
    }
   ],
   "source": [
    "\"string\"[5]"
   ]
  },
  {
   "cell_type": "markdown",
   "metadata": {},
   "source": [
    "Again, please try modifying the code in these cells and rerunning them. Try different values, try another string, guess what the result will be before you hit run. Also, what happens if the index is too large?\n",
    "\n",
    "We can find the length of a string using another useful function: `len(x)`"
   ]
  },
  {
   "cell_type": "code",
   "execution_count": 6,
   "metadata": {},
   "outputs": [
    {
     "data": {
      "text/plain": [
       "6"
      ]
     },
     "execution_count": 6,
     "metadata": {},
     "output_type": "execute_result"
    }
   ],
   "source": [
    "len(\"string\")"
   ]
  },
  {
   "cell_type": "markdown",
   "metadata": {},
   "source": [
    "So the following code outputs the last character of whatever is stored in the variable called `text` (try changing the string and re-running the cell):"
   ]
  },
  {
   "cell_type": "code",
   "execution_count": 7,
   "metadata": {},
   "outputs": [
    {
     "data": {
      "text/plain": [
       "'g'"
      ]
     },
     "execution_count": 7,
     "metadata": {},
     "output_type": "execute_result"
    }
   ],
   "source": [
    "text = \"string\"\n",
    "text[len(text)-1]"
   ]
  },
  {
   "cell_type": "markdown",
   "metadata": {},
   "source": [
    "As we've mentioned before, any value that is written out in full is called a **literal**. `2` is an integer literal, `\"hello\"` is a string literal. It is unusual to see square brackets being used to index a string literal. Why write `\"string\"[0]` when you can just write `\"s\"`? Unusual, but it works! Don't forget our goal of always being able to read code, even if it is unusual! \n",
    "\n",
    "Indexing a string with square brackets is very common on variables, as the examples above and below show.\n",
    "\n",
    "Python also gives us a nice little shorthand: we can use *negative* indices to index from the *right hand side* of the string. So `-1` is the last element, `-2` is the second to last, and so on:"
   ]
  },
  {
   "cell_type": "code",
   "execution_count": 8,
   "metadata": {},
   "outputs": [
    {
     "data": {
      "text/plain": [
       "'g'"
      ]
     },
     "execution_count": 8,
     "metadata": {},
     "output_type": "execute_result"
    }
   ],
   "source": [
    "text = \"string\"\n",
    "text[-1]"
   ]
  },
  {
   "cell_type": "code",
   "execution_count": 9,
   "metadata": {},
   "outputs": [
    {
     "data": {
      "text/plain": [
       "'n'"
      ]
     },
     "execution_count": 9,
     "metadata": {},
     "output_type": "execute_result"
    }
   ],
   "source": [
    "text[-2]"
   ]
  },
  {
   "cell_type": "markdown",
   "metadata": {},
   "source": [
    "But be careful: if you go beyond the length of the string in either direction you will get an error!"
   ]
  },
  {
   "cell_type": "code",
   "execution_count": 10,
   "metadata": {},
   "outputs": [
    {
     "ename": "IndexError",
     "evalue": "string index out of range",
     "output_type": "error",
     "traceback": [
      "\u001b[0;31m---------------------------------------------------------------------------\u001b[0m",
      "\u001b[0;31mIndexError\u001b[0m                                Traceback (most recent call last)",
      "\u001b[0;32m<ipython-input-10-516995b7d893>\u001b[0m in \u001b[0;36m<module>\u001b[0;34m\u001b[0m\n\u001b[1;32m      1\u001b[0m \u001b[0mtext\u001b[0m \u001b[0;34m=\u001b[0m \u001b[0;34m\"string\"\u001b[0m\u001b[0;34m\u001b[0m\u001b[0;34m\u001b[0m\u001b[0m\n\u001b[0;32m----> 2\u001b[0;31m \u001b[0mtext\u001b[0m\u001b[0;34m[\u001b[0m\u001b[0;34m-\u001b[0m\u001b[0;36m7\u001b[0m\u001b[0;34m]\u001b[0m\u001b[0;34m\u001b[0m\u001b[0;34m\u001b[0m\u001b[0m\n\u001b[0m",
      "\u001b[0;31mIndexError\u001b[0m: string index out of range"
     ]
    }
   ],
   "source": [
    "text = \"string\"\n",
    "text[-7]"
   ]
  },
  {
   "cell_type": "markdown",
   "metadata": {},
   "source": [
    "You might still be getting used to seeing these errors, but don't worry, it will soon become an everyday activity! Again, the error itself provides a lot of information, but this can be a bit overwhelming at first. The most important information is on the bottom line, so start there. The type of error is an index error, and the explanation is that the string index is out of range. Hopefully that's pretty self-explanatory!\n",
    "\n",
    "Finally, you can access a range of indices from a string (also called a substring). If `text` is a string variable, then writing\n",
    "```python\n",
    "text[x:y]\n",
    "```\n",
    "will give you the substring from position `x` *up to but not including position* `y`.\n",
    "\n",
    "In the example below, notice how `text[2:4]` returns the characters with indices 2 and 3 (but not 4) from the string:"
   ]
  },
  {
   "cell_type": "code",
   "execution_count": 11,
   "metadata": {},
   "outputs": [
    {
     "data": {
      "text/plain": [
       "'nd'"
      ]
     },
     "execution_count": 11,
     "metadata": {},
     "output_type": "execute_result"
    }
   ],
   "source": [
    "text = \"sandwich\"\n",
    "text[2:4]"
   ]
  },
  {
   "cell_type": "markdown",
   "metadata": {},
   "source": [
    "Try changing the numbers above and seeing how they affect the result. This might help:\n",
    "\n",
    "```\n",
    "01234567\n",
    "sandwich\n",
    "```\n",
    "\n",
    "You can leave out `x` or `y` entirely to get a substring that goes all the way from the beginning or to the end of the string, respectively."
   ]
  },
  {
   "cell_type": "code",
   "execution_count": 12,
   "metadata": {},
   "outputs": [
    {
     "data": {
      "text/plain": [
       "'ndwich'"
      ]
     },
     "execution_count": 12,
     "metadata": {},
     "output_type": "execute_result"
    }
   ],
   "source": [
    "text = \"sandwich\"\n",
    "text[2:]"
   ]
  },
  {
   "cell_type": "code",
   "execution_count": 13,
   "metadata": {},
   "outputs": [
    {
     "data": {
      "text/plain": [
       "'sand'"
      ]
     },
     "execution_count": 13,
     "metadata": {},
     "output_type": "execute_result"
    }
   ],
   "source": [
    "text = \"sandwich\"\n",
    "text[:4]"
   ]
  },
  {
   "cell_type": "markdown",
   "metadata": {},
   "source": [
    "You can also ask for a substring of a string literal, but again we are unlikely to do this in practice:"
   ]
  },
  {
   "cell_type": "code",
   "execution_count": 14,
   "metadata": {},
   "outputs": [
    {
     "data": {
      "text/plain": [
       "'sand'"
      ]
     },
     "execution_count": 14,
     "metadata": {},
     "output_type": "execute_result"
    }
   ],
   "source": [
    "\"sandwich\"[:4]"
   ]
  },
  {
   "cell_type": "markdown",
   "metadata": {},
   "source": [
    "There is a special kind of string called an *empty string*. Strings are sequences which contain any number of characters, including zero. We can write an empty string the way you might guess, by including the quotes but no text: `''` or `\"\"`. This might seem like an odd thing, but we actually need empty strings to make certain code work nicely. You'll see examples of this in time, but for now consider what would happen if we tried to take a substring using `[x:y]` where the two values are the same. Rather than causing an error, an empty string is more useful:"
   ]
  },
  {
   "cell_type": "code",
   "execution_count": 15,
   "metadata": {},
   "outputs": [
    {
     "data": {
      "text/plain": [
       "''"
      ]
     },
     "execution_count": 15,
     "metadata": {},
     "output_type": "execute_result"
    }
   ],
   "source": [
    "text[3:3]"
   ]
  },
  {
   "cell_type": "markdown",
   "metadata": {},
   "source": [
    "#### Numbers in Strings\n",
    "Now, I guarantee, at some point you will attempt to concatenate a number into a string:\n",
    "```python\n",
    "\"This is string number \" + 6\n",
    "```\n",
    "but this will result in an error:"
   ]
  },
  {
   "cell_type": "code",
   "execution_count": 16,
   "metadata": {
    "scrolled": true
   },
   "outputs": [
    {
     "ename": "TypeError",
     "evalue": "can only concatenate str (not \"int\") to str",
     "output_type": "error",
     "traceback": [
      "\u001b[0;31m---------------------------------------------------------------------------\u001b[0m",
      "\u001b[0;31mTypeError\u001b[0m                                 Traceback (most recent call last)",
      "\u001b[0;32m<ipython-input-16-ef885ba18e83>\u001b[0m in \u001b[0;36m<module>\u001b[0;34m\u001b[0m\n\u001b[0;32m----> 1\u001b[0;31m \u001b[0;34m\"This is string number \"\u001b[0m \u001b[0;34m+\u001b[0m \u001b[0;36m6\u001b[0m\u001b[0;34m\u001b[0m\u001b[0;34m\u001b[0m\u001b[0m\n\u001b[0m",
      "\u001b[0;31mTypeError\u001b[0m: can only concatenate str (not \"int\") to str"
     ]
    }
   ],
   "source": [
    "\"This is string number \" + 6"
   ]
  },
  {
   "cell_type": "markdown",
   "metadata": {},
   "source": [
    "This is commonly the first place students will get tripped up because they do not fully understand types. But you know better! Thinking about the *types* involved, you might already be able to spot the problem.\n",
    "\n",
    "If not, don't worry. Again, remember, the important information in an error is at the bottom. This one is saying we have a type error. Concatenation with `+` is defined for two strings, but not a string and an integer.\n",
    "\n",
    "To fix this, we can manually convert the integer into a string:"
   ]
  },
  {
   "cell_type": "code",
   "execution_count": 17,
   "metadata": {},
   "outputs": [
    {
     "data": {
      "text/plain": [
       "'This is string number 6'"
      ]
     },
     "execution_count": 17,
     "metadata": {},
     "output_type": "execute_result"
    }
   ],
   "source": [
    "\"This is string number \" + str(6)"
   ]
  },
  {
   "cell_type": "markdown",
   "metadata": {},
   "source": [
    "This gives the result we expect. Now you can see why it's so important that you understand the types of your data, even if Python handles it all for you when it comes to assigning types to variables.\n",
    "\n",
    "You often end up wanting to insert numbers into strings when you write code, and it's actually a pain to have to keep breaking the string up. Suppose you want to write something like this – in reality you'll be using variables but let's stick with literals for now:"
   ]
  },
  {
   "cell_type": "code",
   "execution_count": 18,
   "metadata": {},
   "outputs": [
    {
     "data": {
      "text/plain": [
       "'this is attempt 5 of 10, your current score is 30 out of 100.'"
      ]
     },
     "execution_count": 18,
     "metadata": {},
     "output_type": "execute_result"
    }
   ],
   "source": [
    "\"this is attempt \" + str(5) + \" of \" + str(10) + \", your current score is \" + str(30) + \" out of \" + str(100) + \".\""
   ]
  },
  {
   "cell_type": "markdown",
   "metadata": {},
   "source": [
    "The code is a bit messy even though we get what we want. Since this is so common, Python has other ways to deal with it. \n",
    "\n",
    "⚠️ *Don't feel you have to learn these now.* Read this section but do not feel you need to memorise it. Then when you find yourself wanting to do this in future, come back to this page.\n",
    "\n",
    "You'll see this used commonly:"
   ]
  },
  {
   "cell_type": "code",
   "execution_count": 19,
   "metadata": {},
   "outputs": [
    {
     "data": {
      "text/plain": [
       "'this is attempt 5 of 10, your current score is 30 out of 100'"
      ]
     },
     "execution_count": 19,
     "metadata": {},
     "output_type": "execute_result"
    }
   ],
   "source": [
    "\"this is attempt {} of {}, your current score is {} out of {}\".format(5, 10, 30, 100)"
   ]
  },
  {
   "cell_type": "markdown",
   "metadata": {},
   "source": [
    "As of Python 3.6, you can also write this:"
   ]
  },
  {
   "cell_type": "code",
   "execution_count": 20,
   "metadata": {},
   "outputs": [
    {
     "data": {
      "text/plain": [
       "'this is attempt 5 of 10, your current score is 30 out of 100'"
      ]
     },
     "execution_count": 20,
     "metadata": {},
     "output_type": "execute_result"
    }
   ],
   "source": [
    "f\"this is attempt {5} of {10}, your current score is {30} out of {100}\""
   ]
  },
  {
   "cell_type": "markdown",
   "metadata": {},
   "source": [
    "Notice the `f` right before the start of the string. When we place that `f` before the string, anything written between `{` and `}` will be evaluated. So you can insert variables or even arithmetic here too. This is what our code is more likely to look like in practice."
   ]
  },
  {
   "cell_type": "code",
   "execution_count": 21,
   "metadata": {},
   "outputs": [
    {
     "data": {
      "text/plain": [
       "'this is attempt 5 of 10, your current score is 30 out of 100'"
      ]
     },
     "execution_count": 21,
     "metadata": {},
     "output_type": "execute_result"
    }
   ],
   "source": [
    "attempt = 5\n",
    "max_attempts = 10\n",
    "score = 30\n",
    "max_score = 100\n",
    "\n",
    "f\"this is attempt {attempt} of {max_attempts}, your current score is {score} out of {max_score}\""
   ]
  },
  {
   "cell_type": "code",
   "execution_count": 22,
   "metadata": {},
   "outputs": [
    {
     "data": {
      "text/plain": [
       "'attempt 5 of 10 is 50.0% of the maximum'"
      ]
     },
     "execution_count": 22,
     "metadata": {},
     "output_type": "execute_result"
    }
   ],
   "source": [
    "f\"attempt {attempt} of {max_attempts} is {attempt/max_attempts*100}% of the maximum\""
   ]
  },
  {
   "cell_type": "markdown",
   "metadata": {},
   "source": [
    "And if you are using a version of Python before 3.6, you can of course do this too:"
   ]
  },
  {
   "cell_type": "code",
   "execution_count": 23,
   "metadata": {},
   "outputs": [
    {
     "data": {
      "text/plain": [
       "'this is attempt 5 of 10, your current score is 30 out of 100'"
      ]
     },
     "execution_count": 23,
     "metadata": {},
     "output_type": "execute_result"
    }
   ],
   "source": [
    "\"this is attempt {} of {}, your current score is {} out of {}\".format(attempt, max_attempts, score, max_score)"
   ]
  },
  {
   "cell_type": "code",
   "execution_count": 24,
   "metadata": {},
   "outputs": [
    {
     "data": {
      "text/plain": [
       "'attempt 5 of 10 is 50.0% of the maximum'"
      ]
     },
     "execution_count": 24,
     "metadata": {},
     "output_type": "execute_result"
    }
   ],
   "source": [
    "\"attempt {} of {} is {}% of the maximum\".format(attempt, max_attempts, attempt/max_attempts*100)"
   ]
  },
  {
   "cell_type": "markdown",
   "metadata": {},
   "source": [
    "You can do much more with string formatting and f-strings in Python. If you are curious you could look up some online tutorials. I personally like to look at the Python documentation, but this quite technical, not for beginners. But this is our goal: eventually you will be writing some code and want to use some feature of Python, and rather than feeling stuck, you will know exactly where to find the documentation.\n",
    "\n",
    "For now though, have a go at the quiz below, and keep working through to the next section."
   ]
  },
  {
   "cell_type": "markdown",
   "metadata": {},
   "source": [
    "#### Questions\n",
    "Here's some questions about strings. If your answer is a string, make sure to include the quotes – you can use single or double quotes, the script will accept either."
   ]
  },
  {
   "cell_type": "code",
   "execution_count": null,
   "metadata": {},
   "outputs": [],
   "source": [
    "%run ./scripts/interactive_questions ./questions/1.4.1q.txt"
   ]
  }
 ],
 "metadata": {
  "kernelspec": {
   "display_name": "Python 3",
   "language": "python",
   "name": "python3"
  },
  "language_info": {
   "codemirror_mode": {
    "name": "ipython",
    "version": 3
   },
   "file_extension": ".py",
   "mimetype": "text/x-python",
   "name": "python",
   "nbconvert_exporter": "python",
   "pygments_lexer": "ipython3",
   "version": "3.7.6"
  }
 },
 "nbformat": 4,
 "nbformat_minor": 2
}
