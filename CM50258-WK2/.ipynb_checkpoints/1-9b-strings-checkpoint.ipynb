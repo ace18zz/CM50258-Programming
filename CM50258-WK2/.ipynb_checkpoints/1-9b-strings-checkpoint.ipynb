{
 "cells": [
  {
   "cell_type": "markdown",
   "metadata": {},
   "source": [
    "## 1.4 Strings\n",
    "### More Types\n",
    "We use text a lot in programming too, and we have a special name for this data type; it is called a **string**.\n",
    "\n",
    "Strings in Python are written with a pair of quote symbols. You can use `\"` or `'`, so long as you use the same one at the beginning and end of the string. Python is clever enough to let you use single quotes inside a string terminated with double quotes, or vice versa.\n",
    "\n",
    "Here are some valid Python strings:\n",
    "```python\n",
    "\"This is a string\"\n",
    "'This is also a string'\n",
    "\"Isn't it wonderful that we can use single quotes inside double quotes?\"\n",
    "```\n",
    "\n",
    "We can perform some operations on strings too. If we add two strings then they are *concatenated*:"
   ]
  },
  {
   "cell_type": "markdown",
   "metadata": {},
   "source": [
    "But the reason `i` for index became so common is because we often *do* use the variable as an index. Last section you wrote a function that censored certain strings. Suppose we want to iterate through a string, censoring (replacing with `*`) any vowel – assuming that only `a`, `e`, `i`, `o`, and `u` are vowels for the purposes of this exercise. For now we'll also assume the input string only contains lowercase letters.\n",
    "\n",
    "We can loop through each element of the string and build up our new string along the way:"
   ]
  },
  {
   "cell_type": "code",
   "execution_count": 6,
   "metadata": {},
   "outputs": [
    {
     "data": {
      "text/plain": [
       "'b*ld*rd*sh'"
      ]
     },
     "execution_count": 6,
     "metadata": {},
     "output_type": "execute_result"
    }
   ],
   "source": [
    "def censor_vowels(word):\n",
    "    out_str = \"\"\n",
    "    for i in range(len(word)):\n",
    "        char = word[i]\n",
    "        if char == \"a\" or char == \"e\" or char == \"i\" or char == \"o\" or char == \"u\":\n",
    "            out_str += \"*\"\n",
    "        else:\n",
    "            out_str += char\n",
    "    return out_str\n",
    "\n",
    "censor_vowels(\"balderdash\")"
   ]
  },
  {
   "cell_type": "markdown",
   "metadata": {},
   "source": [
    "***Again*** take some time to sit with this code – read it carefully, modify it, make sure you understand how it works."
   ]
  },
  {
   "cell_type": "markdown",
   "metadata": {},
   "source": [
    "### Advanced For Loops\n",
    "I lied slightly earlier when I told you the syntax of the for loop. We do not have to use the word `range`. We can replace it with any “collection object”. \n",
    "```python\n",
    "for var in collection:\n",
    "    # code goes here\n",
    "```\n",
    "\n",
    "With this code the variable `var` will take on each of the values from `collection` in turn and run the code with each one. The term “collection” here is not meant in a strict Python sense. Technically the correct word is *iterable* but that's not very helpful... the semantics get tricky and I don't want to get bogged down. So, think of a “collection” as any object that contains other objects, or a way of generating other objects. \n",
    "\n",
    "`range(0, 6)` is a kind of collection, it generates the numbers from `0` to `5`. \n",
    "\n",
    "Strings are collections too: they contain characters. We'll come back to what this really means in a later chapter.\n",
    "\n",
    "All Python for loops are what some languages call *for-each loops*. We can read the line of code out loud as \"for each element in collection\". We use `range` to implement the traditional *for loop* using this *for-each loop* syntax.\n",
    "\n",
    "Here is an alternative version of our previous function. The code is slightly cleaner provided you understand what is going on:"
   ]
  },
  {
   "cell_type": "code",
   "execution_count": 7,
   "metadata": {},
   "outputs": [
    {
     "data": {
      "text/plain": [
       "'d*f*n*t* *t*r*t**n'"
      ]
     },
     "execution_count": 7,
     "metadata": {},
     "output_type": "execute_result"
    }
   ],
   "source": [
    "def censor_vowels_v2(word):\n",
    "    out_str = \"\"\n",
    "    for char in word:\n",
    "        if char == \"a\" or char == \"e\" or char == \"i\" or char == \"o\" or char == \"u\":\n",
    "            out_str += \"*\"\n",
    "        else:\n",
    "            out_str += char\n",
    "    return out_str\n",
    "\n",
    "censor_vowels_v2(\"definite iteration\")"
   ]
  },
  {
   "cell_type": "markdown",
   "metadata": {},
   "source": [
    "Let's be explicit about what has changed. I have replaced these two lines:\n",
    "```python\n",
    "for i in range(len(word)):\n",
    "    char = word[i]\n",
    "```\n",
    "with the single line:\n",
    "```python\n",
    "for char in word:\n",
    "```\n",
    "\n",
    "It is not a world of difference. Again, focus on getting your code working first, then worry about alternative ways you could have written it to be more elegant."
   ]
  },
  {
   "cell_type": "markdown",
   "metadata": {},
   "source": [
    "#### Question 1: While Loop Censoring\n",
    "Can you write a while loop that censors all the vowels from a lower case string? It should perform exactly like the two `censor_vowels` functions we wrote above which used for loops. For a bonus challenge, try to do it *without* referring back to that code."
   ]
  },
  {
   "cell_type": "code",
   "execution_count": 1,
   "metadata": {},
   "outputs": [
    {
     "name": "stdout",
     "output_type": "stream",
     "text": [
      "Example tests for function censor_vowels_while\n",
      "\n",
      "Test 1/5: censor_vowels_while('hello') -> 'h*ll*'\n",
      "Test 2/5: censor_vowels_while('definite iteration') -> 'd*f*n*t* *t*r*t**n'\n",
      "Test 3/5: censor_vowels_while('aaaaahhhhhh') -> '*****hhhhhh'\n",
      "Test 4/5: censor_vowels_while('*****') -> '*****'\n",
      "Test 5/5: censor_vowels_while('balderdash') -> 'b*ld*rd*sh'\n"
     ]
    }
   ],
   "source": [
    "%run ./scripts/show_examples.py ./questions/1.8/censor_vowels_while"
   ]
  },
  {
   "cell_type": "code",
   "execution_count": null,
   "metadata": {},
   "outputs": [],
   "source": [
    "def censor_vowels_while(word):\n",
    "    pass\n",
    "\n",
    "%run -i ./scripts/function_tester.py ./questions/1.8/censor_vowels_while"
   ]
  },
  {
   "cell_type": "markdown",
   "metadata": {},
   "source": [
    "#### Question 2: The Biggest Letter\n",
    "Did you know that you can compare lowercase strings alphabetically just like we compare numbers numerically? For example:"
   ]
  },
  {
   "cell_type": "code",
   "execution_count": 9,
   "metadata": {},
   "outputs": [
    {
     "data": {
      "text/plain": [
       "True"
      ]
     },
     "execution_count": 9,
     "metadata": {},
     "output_type": "execute_result"
    }
   ],
   "source": [
    "\"z\" > \"a\""
   ]
  },
  {
   "cell_type": "code",
   "execution_count": 10,
   "metadata": {},
   "outputs": [
    {
     "data": {
      "text/plain": [
       "False"
      ]
     },
     "execution_count": 10,
     "metadata": {},
     "output_type": "execute_result"
    }
   ],
   "source": [
    "\"b\" > \"c\""
   ]
  },
  {
   "cell_type": "markdown",
   "metadata": {},
   "source": [
    "Armed with this knowledge, write a function that finds the biggest (alphabetically) character in a given string. If the string is empty, return an empty string.\n",
    "\n",
    "Again we will stick with all lowercase strings for now. Technically this comparison is comparing the numeric values of the characters, and all uppercase letters come before all lowercase letters, so `\"Z\" < \"a\"` returns `True`. But you don't need to worry about that for the exercise."
   ]
  },
  {
   "cell_type": "code",
   "execution_count": 2,
   "metadata": {},
   "outputs": [
    {
     "name": "stdout",
     "output_type": "stream",
     "text": [
      "Example tests for function biggest_letter\n",
      "\n",
      "Test 1/5: biggest_letter('hello') -> 'o'\n",
      "Test 2/5: biggest_letter('while loop') -> 'w'\n",
      "Test 3/5: biggest_letter('zebra') -> 'z'\n",
      "Test 4/5: biggest_letter('fiddledeedee') -> 'l'\n",
      "Test 5/5: biggest_letter('balderdash') -> 's'\n"
     ]
    }
   ],
   "source": [
    "%run ./scripts/show_examples.py ./questions/1.8/biggest_letter"
   ]
  },
  {
   "cell_type": "code",
   "execution_count": null,
   "metadata": {},
   "outputs": [],
   "source": [
    "def biggest_letter(word):\n",
    "    pass\n",
    "\n",
    "%run -i ./scripts/function_tester.py ./questions/1.8/biggest_letter"
   ]
  }
 ],
 "metadata": {
  "kernelspec": {
   "display_name": "Python 3",
   "language": "python",
   "name": "python3"
  },
  "language_info": {
   "codemirror_mode": {
    "name": "ipython",
    "version": 3
   },
   "file_extension": ".py",
   "mimetype": "text/x-python",
   "name": "python",
   "nbconvert_exporter": "python",
   "pygments_lexer": "ipython3",
   "version": "3.7.6"
  }
 },
 "nbformat": 4,
 "nbformat_minor": 2
}
