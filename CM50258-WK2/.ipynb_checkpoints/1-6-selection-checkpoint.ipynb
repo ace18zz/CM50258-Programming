{
 "cells": [
  {
   "cell_type": "markdown",
   "metadata": {},
   "source": [
    "## Section 1.6 – Selection: conditionals and if statements\n",
    "### Logical Structure\n",
    "We showed you this unusual custom function . Here it is again in code form so you can run it yourself:"
   ]
  },
  {
   "cell_type": "code",
   "execution_count": null,
   "metadata": {},
   "outputs": [],
   "source": [
    "def f(x):\n",
    "    v1 = x**2\n",
    "    v2 = 2**x\n",
    "    return max(v1, v2)\n",
    "var = 10\n",
    "y = f(var)\n",
    "y"
   ]
  },
  {
   "cell_type": "markdown",
   "metadata": {},
   "source": [
    "The point of the function is not to be particularly useful but to demonstrate how to read code line by line. Let's go through those steps again here for completeness:\n",
    "\n",
    "```python\n",
    "1    def f(x):\n",
    "2        v1 = x**2\n",
    "3        v2 = 2**x\n",
    "4        return max(v1, v2)\n",
    "5    var = 10\n",
    "6    y = f(var)\n",
    "7    y\n",
    "```\n",
    "\n",
    "Imagine we are the computer running the code from top to bottom. \n",
    "* First we run lines `1`, `2`, `3`, and `4`. These define the function `f`. After running these lines the function has been created, but none of the code inside the function is actually *executed* because the function has not been *called*.\n",
    "* On line `5` we create a variable called `var` with the value `10`.\n",
    "* On line `6` we call the function `f` with its parameter `x` set to the value of `var` (which is `10`):\n",
    " * So the *code flow* jumps back to line `1`, **but** we remember that we came from line `6`\n",
    " * Line `2` calculates $10^2=100$ and assigns it to `v1`\n",
    " * Line `3` calculates $2^{10}=1024$ and assigns it to `v2`\n",
    " * Then line `4` returns the maximum value of the two, which is `v2` with the value of `1024`.\n",
    "* Since we hit a return statement we go back to the line we remembered: line `6`. We are not done with this line. We have *evaluated* the *expression* on the right hand side of the *assignment*, but we still need to complete the assignment itself. We create the new variable `y` with the value of `1024`.\n",
    "* Finally, line `7` outputs the value of `y` so we can see it in Jupyter.\n",
    "\n",
    "**Make sense?** \n",
    "\n",
    "Try this again with some alterations. What would happen if we changed the value of `10` on line 5? What happens if it is changed to `1`? What happens if it is changed to `2`? Can you run through all of the lines of code without having to click the run button?\n",
    "\n",
    "This is called *tracing* code and it's extremely important to be able to do this – again, you need to be able to read your own code to work out what it is doing if you have any hope of being able to make it work!\n",
    "\n",
    "### If Statements\n"
   ]
  },
  {
   "cell_type": "markdown",
   "metadata": {},
   "source": [
    "In the C content on Moodle, we asked you to print different output, depending on some condition. We used an if statement for this. \n",
    "\n",
    "\n",
    "Here is the python syntax for an if statement:\n",
    "```python\n",
    "if condition:\n",
    "    # this code runs if condition evaluates to true\n",
    "else:\n",
    "    # this code runs if condition evaluates to false\n",
    "```\n",
    "\n",
    "The `else` section is optional, and sometimes this larger construction is called an “if-then-else” statement.\n",
    "\n",
    "The `condition` is ***any expression which evaluates to a Boolean***.\n",
    "\n",
    "Here are some really simple examples of if statements."
   ]
  },
  {
   "cell_type": "code",
   "execution_count": null,
   "metadata": {},
   "outputs": [],
   "source": [
    "x = 10\n",
    "if x > 5:\n",
    "    x = 5\n",
    "\n",
    "x"
   ]
  },
  {
   "cell_type": "code",
   "execution_count": null,
   "metadata": {},
   "outputs": [],
   "source": [
    "x = 10\n",
    "y = 20\n",
    "if x < y:\n",
    "    x = y\n",
    "else:\n",
    "    y = x\n",
    "\n",
    "x == y  "
   ]
  },
  {
   "cell_type": "markdown",
   "metadata": {},
   "source": [
    "### Examples\n",
    "Here are some more examples of programs with if statements. Remember you can edit any Python cells to experiment – learn by doing!\n",
    "\n",
    "In the example below, you can see an extension of the if statement. `elif` is a contraction of “else if”. It allows us to write a second condition which will only be checked if the first condition returns `False`. "
   ]
  },
  {
   "cell_type": "code",
   "execution_count": null,
   "metadata": {},
   "outputs": [],
   "source": [
    "def divisibleBy3or5(s):\n",
    "    if s%5 == 0:\n",
    "        return True\n",
    "    elif s%3 == 0:\n",
    "        return True\n",
    "    else:\n",
    "        return False\n",
    "    \n",
    "divisibleBy3or5(9)"
   ]
  },
  {
   "cell_type": "markdown",
   "metadata": {},
   "source": [
    "Any code is allowed within an if statement, including another if statement! We call this *nesting*. The following code includes nested if statements. Pay close attention to the *indentation* of the lines. After all of the if statements is a return statement which is one level indented. It is run in the usual way after all of the if statements, no matter how they evaluated."
   ]
  },
  {
   "cell_type": "code",
   "execution_count": null,
   "metadata": {},
   "outputs": [],
   "source": [
    "def income_after_tax(income):\n",
    "    tax = 0\n",
    "    if income > 12500:\n",
    "        tax = tax + (income - 12500) * 0.2\n",
    "        if income > 50000:\n",
    "            tax = tax + (income - 50000) * 0.2\n",
    "            if income > 100000:\n",
    "                # personal allowance goes down £1 per £2 over £100k\n",
    "                allowance_lost = min(((income - 100000) // 2), 12500)\n",
    "                tax = tax + allowance_lost * 0.4\n",
    "                if income > 150000:\n",
    "                    tax = tax + (income - 150000) * 0.05\n",
    "                \n",
    "    return income - tax\n",
    "\n",
    "income_after_tax(22000)"
   ]
  },
  {
   "cell_type": "code",
   "execution_count": null,
   "metadata": {},
   "outputs": [],
   "source": [
    "income_after_tax(115000)"
   ]
  },
  {
   "cell_type": "code",
   "execution_count": null,
   "metadata": {},
   "outputs": [],
   "source": [
    "income_after_tax(160000)"
   ]
  },
  {
   "cell_type": "markdown",
   "metadata": {},
   "source": [
    "*Note: No guarantees this income tax calculator is correct. Please do not use it to fill out any official paperwork.*\n",
    "\n",
    "Remember that if statements work with any expression which evaluates to a `True` or `False` value. This leads to a natural English-language use of Boolean operations like `and` and `or`. To code the English sentence \"if x is greater than 5 and less than 10\" we can write the code `if x > 5 and x < 10`. Notice we have to repeat the variable name, we are joining two separate Boolean comparisons with an `and`, *not* just converting the English sentence word by word.\n",
    "\n"
   ]
  },
  {
   "cell_type": "code",
   "execution_count": null,
   "metadata": {},
   "outputs": [],
   "source": [
    "# this is the correct way to join two inequalities with `and`\n",
    "\n",
    "x = 3\n",
    "if x > 5 and x < 10:\n",
    "    x = 0\n",
    "    \n",
    "x"
   ]
  },
  {
   "cell_type": "code",
   "execution_count": null,
   "metadata": {},
   "outputs": [],
   "source": [
    "# this might read like natural English but it will not work!\n",
    "\n",
    "x = 3\n",
    "if x > 5 and < 10:\n",
    "    x = 0\n",
    "    \n",
    "x"
   ]
  },
  {
   "cell_type": "markdown",
   "metadata": {},
   "source": [
    "#### More Than One Way To Peel An Orange\n",
    "Whenever a return statement is executed, the function ends. So if we have a return statement inside an if statement, then we know that any code *after* the if statement must have had a `False` condition in the if statement.\n",
    "\n",
    "In other words, instead of writing this:\n",
    "```python\n",
    "def inside_of_5_and_10(x):\n",
    "    if x >= 5:\n",
    "        if x <= 10:\n",
    "            return True\n",
    "        else:\n",
    "            return False\n",
    "    else:\n",
    "        return False\n",
    "```\n",
    "\n",
    "we can write this:\n",
    "```python\n",
    "def inside_of_5_and_10(x):\n",
    "    if x >= 5:\n",
    "        if x <= 10:\n",
    "            return True\n",
    "    return False\n",
    "```\n",
    "there is no need for the `else` statements, because if the if statement condition had been met then the function would have hit a return statement and ended its execution. Writing code after an if statement which contains a return is the same as writing it in an else statement.\n",
    "\n",
    "Nested if statements are equivalent to using an `and` operation. So that previous block of code can be written like this:\n",
    "```python\n",
    "def inside_of_5_and_10(x):\n",
    "    if x >= 5 and x <= 10:\n",
    "        return True\n",
    "    return False\n",
    "```\n",
    "\n",
    "Similarly, sometimes we find ourselves doing the same thing in multiple `elif` statements such as this example:\n",
    "```python\n",
    "def outside_of_5_and_10(x):\n",
    "    if x < 5:\n",
    "        return False\n",
    "    elif x > 10:\n",
    "        return False\n",
    "    return True\n",
    "```\n",
    "\n",
    "And we can simplify that by using an `or` operation:\n",
    "```python\n",
    "def outside_of_5_and_10(x):\n",
    "    if x < 5 or x > 10:\n",
    "        return False\n",
    "    return True\n",
    "```\n",
    "\n",
    "Actually, going back to the inside range... one of the fun things about Python is how many little shortcut features it has – other languages tend to be a bit more stubborn, but Python has lots of nice little features if they are useful. For example, in Python, you can write `x >= 5 and x <= 10` using the kind of notation we'd use in maths: `5 <= x <= 10`.\n",
    "```python\n",
    "def inside_of_5_and_10(x):\n",
    "    if 5 <= x <= 10:\n",
    "        return True\n",
    "    return False\n",
    "```\n",
    "\n",
    "***But actually...*** this function is checking a Boolean value in an if statement, and then returning the same Boolean value! The “best” (or at least most *elegant*) way to write this function is without an if statement at all:\n",
    "```python\n",
    "def inside_of_5_and_10(x):\n",
    "    return 5 <= x <= 10\n",
    "```\n",
    "\n",
    "Programmers value a few things in code. It should be efficient (not take too long to run), and it should be readable. But it's also nice when code is elegant – this does not always mean fewer lines, it's hard to define but you know it when you see it. These factors often go hand in hand. "
   ]
  },
  {
   "cell_type": "markdown",
   "metadata": {},
   "source": [
    "### Questions\n",
    "Run the cell below to do the interactive quiz on if statements, and then complete the individual function exercises that follow."
   ]
  },
  {
   "cell_type": "code",
   "execution_count": null,
   "metadata": {
    "scrolled": false
   },
   "outputs": [
    {
     "name": "stdout",
     "output_type": "stream",
     "text": [
      "Question 1 of 10\n",
      "After the following code is executed:\n",
      "def dog(egg):\n",
      "    if egg < 5:\n",
      "        return egg * 2\n",
      "    else:\n",
      "        return egg * 3\n",
      "What is the result of the expression below?\n",
      "dog(4)\n"
     ]
    }
   ],
   "source": [
    "%run ./scripts/interactive_questions ./questions/1.7.1q.txt"
   ]
  },
  {
   "cell_type": "markdown",
   "metadata": {},
   "source": [
    "#### Question 1: Absolute Value\n",
    "Write your own implementation of the absolute value `abs` function, using an if statement. As a reminder, the absolute value should return a positive version of any input number. You may not use the `abs` function, obviously! So `abs(5)` is `5` and `abs(-5)` is also `5`. More examples in the cell below."
   ]
  },
  {
   "cell_type": "code",
   "execution_count": null,
   "metadata": {},
   "outputs": [],
   "source": [
    "%run ./scripts/show_examples.py ./questions/1.7/absolute"
   ]
  },
  {
   "cell_type": "code",
   "execution_count": null,
   "metadata": {},
   "outputs": [],
   "source": [
    "def absolute(val):\n",
    "    pass\n",
    "\n",
    "%run -i ./scripts/function_tester.py ./questions/1.7/absolute"
   ]
  },
  {
   "cell_type": "markdown",
   "metadata": {},
   "source": [
    "#### Question 2: Is Even\n",
    "Write a function that calculates whether an input number is even. A number is even if it can be written as $2n$ where $n$ is an integer. Another way of saying this is that it is even if it divides by 2 with no remainder."
   ]
  },
  {
   "cell_type": "code",
   "execution_count": null,
   "metadata": {},
   "outputs": [],
   "source": [
    "%run ./scripts/show_examples.py ./questions/1.7/is_even"
   ]
  },
  {
   "cell_type": "code",
   "execution_count": null,
   "metadata": {},
   "outputs": [],
   "source": [
    "def is_even(val):\n",
    "    pass\n",
    "\n",
    "%run -i ./scripts/function_tester.py ./questions/1.7/is_even"
   ]
  },
  {
   "cell_type": "markdown",
   "metadata": {},
   "source": [
    "*Bonus: did you use an if statement? It's possible to write this function without one. Have a go. If you're not sure, reread the [text above](#More-Than-One-Way-To-Peel-An-Orange)...*"
   ]
  }
 ],
 "metadata": {
  "kernelspec": {
   "display_name": "Python 3",
   "language": "python",
   "name": "python3"
  },
  "language_info": {
   "codemirror_mode": {
    "name": "ipython",
    "version": 3
   },
   "file_extension": ".py",
   "mimetype": "text/x-python",
   "name": "python",
   "nbconvert_exporter": "python",
   "pygments_lexer": "ipython3",
   "version": "3.7.6"
  }
 },
 "nbformat": 4,
 "nbformat_minor": 2
}
