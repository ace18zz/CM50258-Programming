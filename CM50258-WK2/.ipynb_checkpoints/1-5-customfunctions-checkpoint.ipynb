{
 "cells": [
  {
   "cell_type": "markdown",
   "metadata": {},
   "source": [
    "## Section 1.6 – Custom Functions\n",
    "### Writing Functions in Python\n",
    "We have already discussed how useful functions are, and we've tried the `pow` function in C. In python, we can write this ourselves: \n",
    "\n",
    "```python\n",
    "def pow(x, y):\n",
    "    return x ** y\n",
    "```\n",
    "\n",
    "For the benefit of easy reference, let's repeat the breakdown of each component. The first line is called the **signature**:\n",
    "```python\n",
    "def pow(x, y):\n",
    "```\n",
    "* `def` \n",
    " * This keyword indicates this is a *function definition*\n",
    "* `pow`\n",
    " * The name of the function, this is what we will *call* later\n",
    "* `(x, y)`\n",
    " * We list all of the *parameters* (inputs) of the function and give them variable names – we can call them whatever we like\n",
    "* `:` \n",
    " * This colon indicates the start of a new *block* of code\n",
    " * At least one but possibly more of the following lines of code will *belong* to this function\n",
    "\n",
    "Now let's add the second line:\n",
    "```python\n",
    "def pow(x, y):\n",
    "    return x ** y\n",
    "```\n",
    "* `⇥` \n",
    " * Notice this line is *indented* – there are four spaces (or a *tab* character) at the start of this line\n",
    " * If a line ends in a colon `:` then the next line ***must*** be indented\n",
    " * Every indented line is considered part of the same block of code – in this case, part of the same function\n",
    "* `return`\n",
    " * This keyword indicates that we are ending the function and the result of evaluating the expression on the right hand side will be *returned* (outputted)\n",
    "* `x ** y`\n",
    " * Finally, this is the calculation that the function will do with the input parameters `x` and `y`\n",
    " \n",
    "Here is a demonstration of this function in action that you can run and play around with. I have renamed the function to `my_pow` so we can demonstrate it is not just the same as the builtin function `pow`:"
   ]
  },
  {
   "cell_type": "code",
   "execution_count": 1,
   "metadata": {
    "scrolled": true
   },
   "outputs": [
    {
     "data": {
      "text/plain": [
       "32"
      ]
     },
     "execution_count": 1,
     "metadata": {},
     "output_type": "execute_result"
    }
   ],
   "source": [
    "def my_pow(x, y):\n",
    "    return x ** y\n",
    "\n",
    "my_pow(2, 5)"
   ]
  },
  {
   "cell_type": "markdown",
   "metadata": {},
   "source": [
    "Notice that, like variables, function definitions persist between Jupyter cells:"
   ]
  },
  {
   "cell_type": "code",
   "execution_count": 2,
   "metadata": {
    "scrolled": true
   },
   "outputs": [
    {
     "data": {
      "text/plain": [
       "1024"
      ]
     },
     "execution_count": 2,
     "metadata": {},
     "output_type": "execute_result"
    }
   ],
   "source": [
    "my_pow(2, 10)"
   ]
  },
  {
   "cell_type": "markdown",
   "metadata": {},
   "source": [
    "### More Examples\n",
    "Here are some more examples of custom functions. This first one takes a number of minutes and a number of seconds and returns the total number of seconds:"
   ]
  },
  {
   "cell_type": "code",
   "execution_count": 3,
   "metadata": {
    "scrolled": true
   },
   "outputs": [
    {
     "data": {
      "text/plain": [
       "320"
      ]
     },
     "execution_count": 3,
     "metadata": {},
     "output_type": "execute_result"
    }
   ],
   "source": [
    "def total_seconds(minutes, seconds):\n",
    "    return minutes*60 + seconds\n",
    "\n",
    "total_seconds(5, 20)"
   ]
  },
  {
   "cell_type": "markdown",
   "metadata": {},
   "source": [
    "### Scope\n",
    "Now that we are using variables inside functions we need to talk about **scope**. When you create a new variable inside a function it only exists *inside* that function. Outside of the function it will be like the variable never existed.\n",
    "\n",
    "Pay careful attention to the following code examples:"
   ]
  },
  {
   "cell_type": "code",
   "execution_count": 5,
   "metadata": {
    "scrolled": true
   },
   "outputs": [
    {
     "data": {
      "text/plain": [
       "20"
      ]
     },
     "execution_count": 5,
     "metadata": {},
     "output_type": "execute_result"
    }
   ],
   "source": [
    "def add(x, y):\n",
    "    z = x + y\n",
    "    return z\n",
    "\n",
    "add(10, 10)"
   ]
  },
  {
   "cell_type": "markdown",
   "metadata": {},
   "source": [
    "If we query the value of `z` after running the function `add`, we will get an error:"
   ]
  },
  {
   "cell_type": "code",
   "execution_count": 6,
   "metadata": {
    "scrolled": true
   },
   "outputs": [
    {
     "ename": "NameError",
     "evalue": "name 'z' is not defined",
     "output_type": "error",
     "traceback": [
      "\u001b[0;31m---------------------------------------------------------------------------\u001b[0m",
      "\u001b[0;31mNameError\u001b[0m                                 Traceback (most recent call last)",
      "\u001b[0;32m<ipython-input-6-5a57b4d2a042>\u001b[0m in \u001b[0;36m<module>\u001b[0;34m\u001b[0m\n\u001b[1;32m      4\u001b[0m \u001b[0;34m\u001b[0m\u001b[0m\n\u001b[1;32m      5\u001b[0m \u001b[0madd\u001b[0m\u001b[0;34m(\u001b[0m\u001b[0;36m10\u001b[0m\u001b[0;34m,\u001b[0m \u001b[0;36m10\u001b[0m\u001b[0;34m)\u001b[0m\u001b[0;34m\u001b[0m\u001b[0;34m\u001b[0m\u001b[0m\n\u001b[0;32m----> 6\u001b[0;31m \u001b[0mz\u001b[0m\u001b[0;34m\u001b[0m\u001b[0;34m\u001b[0m\u001b[0m\n\u001b[0m",
      "\u001b[0;31mNameError\u001b[0m: name 'z' is not defined"
     ]
    }
   ],
   "source": [
    "def add(x, y):\n",
    "    z = x + y\n",
    "    return z\n",
    "\n",
    "add(10, 10)\n",
    "z"
   ]
  },
  {
   "cell_type": "markdown",
   "metadata": {},
   "source": [
    "Below shows a very similar example but with the variable called `elephant` instead of `z`. This time, the variable has a value before the function is defined. Notice that *neither* defining nor calling the function changes the value of `elephant` when we query it at the end."
   ]
  },
  {
   "cell_type": "code",
   "execution_count": 7,
   "metadata": {
    "scrolled": true
   },
   "outputs": [
    {
     "data": {
      "text/plain": [
       "100"
      ]
     },
     "execution_count": 7,
     "metadata": {},
     "output_type": "execute_result"
    }
   ],
   "source": [
    "elephant = 100\n",
    "\n",
    "def add(x, y):\n",
    "    elephant = x + y\n",
    "    return elephant\n",
    "\n",
    "add(10, 10)\n",
    "elephant"
   ]
  },
  {
   "cell_type": "markdown",
   "metadata": {},
   "source": [
    "⚠️ *Advanced note:* it is possible to *access* a variable *inside* a function which is in the *outer* scope, as the following example demonstrates. However, this is generally considered less than ideal practice. It is similar to the concept of a *global variable*."
   ]
  },
  {
   "cell_type": "code",
   "execution_count": 8,
   "metadata": {},
   "outputs": [
    {
     "data": {
      "text/plain": [
       "120"
      ]
     },
     "execution_count": 8,
     "metadata": {},
     "output_type": "execute_result"
    }
   ],
   "source": [
    "orangutan = 100\n",
    "\n",
    "def add(x, y):\n",
    "    result = x + y + orangutan\n",
    "    return result\n",
    "\n",
    "add(10, 10)"
   ]
  },
  {
   "cell_type": "markdown",
   "metadata": {},
   "source": [
    "There is not enough space here to discuss all the subtleties of when and whether this is a good or bad idea. But bear in mind that you could always add the extra variable to the list of parameters, and this can make for clearer code (if you've used better variable names than the ones I've got here)."
   ]
  },
  {
   "cell_type": "code",
   "execution_count": 9,
   "metadata": {},
   "outputs": [
    {
     "data": {
      "text/plain": [
       "120"
      ]
     },
     "execution_count": 9,
     "metadata": {},
     "output_type": "execute_result"
    }
   ],
   "source": [
    "orangutan = 100\n",
    "\n",
    "def add(x, y, orangutan):\n",
    "    result = x + y + orangutan\n",
    "    return result\n",
    "\n",
    "add(10, 10, orangutan)"
   ]
  },
  {
   "cell_type": "markdown",
   "metadata": {},
   "source": [
    "#### Empty Function\n",
    "In Python every line of code that ends with a `:` (like a function signature) *must* be followed by at least one indented line. If for some reason we want to create a function that does nothing (maybe to come back to it later), we will get an error if we write this:"
   ]
  },
  {
   "cell_type": "code",
   "execution_count": 10,
   "metadata": {},
   "outputs": [
    {
     "ename": "IndentationError",
     "evalue": "expected an indented block (<ipython-input-10-f1e230003855>, line 3)",
     "output_type": "error",
     "traceback": [
      "\u001b[0;36m  File \u001b[0;32m\"<ipython-input-10-f1e230003855>\"\u001b[0;36m, line \u001b[0;32m3\u001b[0m\n\u001b[0;31m    do_nothing(10)\u001b[0m\n\u001b[0m    ^\u001b[0m\n\u001b[0;31mIndentationError\u001b[0m\u001b[0;31m:\u001b[0m expected an indented block\n"
     ]
    }
   ],
   "source": [
    "def do_nothing(x):\n",
    "    \n",
    "do_nothing(10)"
   ]
  },
  {
   "cell_type": "markdown",
   "metadata": {},
   "source": [
    "So we can fill the function with the word `pass`. This is “pass” as in “Do I want some crisps? No, I'll pass.”, not as in “pass”ing a variable or “this test passed”."
   ]
  },
  {
   "cell_type": "code",
   "execution_count": 11,
   "metadata": {},
   "outputs": [],
   "source": [
    "def do_nothing(x):\n",
    "    pass\n",
    "\n",
    "do_nothing(10)"
   ]
  },
  {
   "cell_type": "markdown",
   "metadata": {},
   "source": [
    "### Questions\n",
    "Now it's your turn. You have two sets of questions to complete. First is your normal interactive quiz, which you can take in the cell below."
   ]
  },
  {
   "cell_type": "code",
   "execution_count": null,
   "metadata": {
    "scrolled": true
   },
   "outputs": [],
   "source": [
    "%run ./scripts/interactive_questions ./questions/1.6.1q.txt"
   ]
  },
  {
   "cell_type": "markdown",
   "metadata": {},
   "source": [
    "#### Custom Functions\n",
    "Once you have completed the quiz, we need to get you writing your own functions! Over time we will shift away from the comprehension style questions in the quizzes and towards more code written in functions like this.\n",
    "\n",
    "Each question will have\n",
    "* A description of what function you should write\n",
    "* Some examples which show how your function should work\n",
    "* A skeleton function which you need to complete\n",
    "\n",
    "You should write your code directly into the Jupyter cell. When you run the cell (ctrl+return) it will run some automated tests on your function. Keep editing your code until all of the tests succeed!\n",
    "\n",
    "For now, ***do not*** use any coding features that we have not covered up until this point in the unit! This is part of the challenge. Maybe you already know how to write if statements for example – and if so, great! But that's next section. All of the exercises here can be completed just using the material we've covered. Later material might make them too easy, so where is the fun in that? The way to show off is to do it *without* using those features.\n",
    "\n",
    "The skeleton function will include the *signature* of the function, and then the word `pass` to create a valid empty function. You can immediately run the tests to see what happens. Replace the word `pass` with your code. \n",
    "\n",
    "#### Question 1: Add\n",
    "For this first question, we want you to create a function called `add` which sums two inputs and returns the result. In other words, `add` is to `+` as `pow` is to `**`. Some examples are shown below:"
   ]
  },
  {
   "cell_type": "code",
   "execution_count": 1,
   "metadata": {},
   "outputs": [
    {
     "name": "stdout",
     "output_type": "stream",
     "text": [
      "Example tests for function add\n",
      "\n",
      "Test 1/5: add(1, 1) -> 2\n",
      "Test 2/5: add(1, 0) -> 1\n",
      "Test 3/5: add(0, 1) -> 1\n",
      "Test 4/5: add(0, 0) -> 0\n",
      "Test 5/5: add(-1, 1) -> 0\n"
     ]
    }
   ],
   "source": [
    "%run ./scripts/show_examples.py ./questions/1.6/add"
   ]
  },
  {
   "cell_type": "code",
   "execution_count": null,
   "metadata": {
    "scrolled": false
   },
   "outputs": [],
   "source": [
    "def add(x, y):\n",
    "    # replace the line below with your code\n",
    "    pass\n",
    "\n",
    "# do not change the line below, it runs the tests\n",
    "%run -i ../scripts/function_tester.py ./questions/1.6/add"
   ]
  },
  {
   "cell_type": "markdown",
   "metadata": {},
   "source": [
    "#### Question 2: Swap The Ends\n",
    "Write a function called `swap_ends` which will swap the characters at either end of a string and return the result. \n",
    "\n",
    "You may assume the string will always be length 2 or above.\n",
    "\n",
    "You'll need to use string indexing and concatenation to complete this function. Refer back to the section on strings (section 1.4) if you need to.\n",
    "\n",
    "As usual, example inputs are shown below."
   ]
  },
  {
   "cell_type": "code",
   "execution_count": 2,
   "metadata": {},
   "outputs": [
    {
     "name": "stdout",
     "output_type": "stream",
     "text": [
      "Example tests for function swap_ends\n",
      "\n",
      "Test 1/5: swap_ends('hello') -> 'oellh'\n",
      "Test 2/5: swap_ends('oellh') -> 'hello'\n",
      "Test 3/5: swap_ends('tt') -> 'tt'\n",
      "Test 4/5: swap_ends('15') -> '51'\n",
      "Test 5/5: swap_ends('a reasonably long string') -> 'g reasonably long strina'\n"
     ]
    }
   ],
   "source": [
    "%run ./scripts/show_examples.py ./questions/1.6/swap_ends"
   ]
  },
  {
   "cell_type": "code",
   "execution_count": null,
   "metadata": {},
   "outputs": [],
   "source": [
    "def swap_ends(s):\n",
    "    pass\n",
    "\n",
    "%run -i ./scripts/function_tester.py ./questions/1.6/swap_ends"
   ]
  },
  {
   "cell_type": "markdown",
   "metadata": {},
   "source": [
    "#### Question 3: 24 to 12 Hour Clock\n",
    "Create a function which converts an hour written in the 24 hour clock into the 12 hour clock. So `15` should return `3`, and `3` should return `3`. Function names can contain numbers, but *cannot start* with a number. So the function will be called `convert24to12`. Example inputs shown below, as usual.\n",
    "\n",
    "*Hint: remember the **modulo** operation from a previous section*"
   ]
  },
  {
   "cell_type": "code",
   "execution_count": 3,
   "metadata": {},
   "outputs": [
    {
     "name": "stdout",
     "output_type": "stream",
     "text": [
      "Example tests for function convert24to12\n",
      "\n",
      "Test 1/5: convert24to12(15) -> 3\n",
      "Test 2/5: convert24to12(3) -> 3\n",
      "Test 3/5: convert24to12(23) -> 11\n",
      "Test 4/5: convert24to12(1) -> 1\n",
      "Test 5/5: convert24to12(0) -> 12\n"
     ]
    }
   ],
   "source": [
    "%run ./scripts/show_examples.py ./questions/1.6/convert24to12"
   ]
  },
  {
   "cell_type": "code",
   "execution_count": null,
   "metadata": {
    "scrolled": false
   },
   "outputs": [],
   "source": [
    "def convert24to12(hour):\n",
    "    pass\n",
    "\n",
    "%run -i ./scripts/function_tester.py ./questions/1.6/convert24to12"
   ]
  }
 ],
 "metadata": {
  "kernelspec": {
   "display_name": "Python 3",
   "language": "python",
   "name": "python3"
  },
  "language_info": {
   "codemirror_mode": {
    "name": "ipython",
    "version": 3
   },
   "file_extension": ".py",
   "mimetype": "text/x-python",
   "name": "python",
   "nbconvert_exporter": "python",
   "pygments_lexer": "ipython3",
   "version": "3.7.6"
  }
 },
 "nbformat": 4,
 "nbformat_minor": 2
}
