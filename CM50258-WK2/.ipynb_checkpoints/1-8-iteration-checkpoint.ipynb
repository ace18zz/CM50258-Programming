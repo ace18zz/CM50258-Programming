{
 "cells": [
  {
   "cell_type": "markdown",
   "metadata": {},
   "source": [
    "## Section 1.8 – Iteration\n",
    "### Repetition\n",
    "As a reminder, we've said that sometimes we want to perform the same action more than once. As a rather simple example, we can try to calculate multiplication as a series of repeated additions, without using the `*` operator. In general, $n \\times m$ is \n",
    "$$\\underbrace{n + n + \\dots + n}_{m \\text{ times}}$$\n",
    "\n",
    "Here is our really bad solution again:"
   ]
  },
  {
   "cell_type": "code",
   "execution_count": 1,
   "metadata": {},
   "outputs": [
    {
     "data": {
      "text/plain": [
       "20"
      ]
     },
     "execution_count": 1,
     "metadata": {},
     "output_type": "execute_result"
    }
   ],
   "source": [
    "def mult(n, m):\n",
    "    if m == 1:\n",
    "        return n\n",
    "    elif m == 2:\n",
    "        return n + n\n",
    "    elif m == 3:\n",
    "        return n + n + n\n",
    "    elif m == 4:\n",
    "        return n + n + n + n\n",
    "    \n",
    "mult(5, 4)"
   ]
  },
  {
   "cell_type": "markdown",
   "metadata": {},
   "source": [
    "We get the correct answer for $5 \\times 4$, but as we said, $4 \\times 5$ is not going to work, because we have *hard-coded* the behaviour only up to $m = 4$."
   ]
  },
  {
   "cell_type": "code",
   "execution_count": 2,
   "metadata": {},
   "outputs": [],
   "source": [
    "mult(4, 5)"
   ]
  },
  {
   "cell_type": "markdown",
   "metadata": {},
   "source": [
    "Running this cell produces no output because the function does not return anything. If we then tried to use this value somewhere else, we'd probably get an error, but this is a good demonstration of how sometimes misbehaving code is not immediately obvious because it might not immediately produce an error.\n",
    "\n",
    "As we said before, the better way to achieve this goal is to use a loop.\n",
    "\n",
    "### Loops\n",
    "Starting with definite iteration, here is our typical *for loop* for reference:\n",
    "```python\n",
    "for var in range(a,b):\n",
    "    # code goes here\n",
    "```\n",
    "\n",
    "The variable called `var` will take on each integer value in turn starting at `a` and ending at `b-1`, and the code *inside the loop* will run with each value.\n",
    "\n",
    "You can omit the first argument from the `range` function call and the numbers will start from zero instead. So\n",
    "```python\n",
    "for var in range(10):\n",
    "    # code goes here\n",
    "```\n",
    "will loop exactly 10 times: the first value of `var` will be `0`, and the last value will be `9`.\n",
    "\n",
    "Let's see a better version of our manual multiplication in the cell below. \n",
    "\n",
    "----\n",
    "*Note:* In the code below you will see the line:\n",
    "```python\n",
    "total += n\n",
    "```\n",
    "This is exactly the same as writing:\n",
    "```python\n",
    "total = total + n\n",
    "```\n",
    "Again, just a nice shortcut that Python offers, since we do this kind of thing a lot. The other “update and assign” operators you'd expect also exist: `-=`, `*=`, and `/=`.\n",
    "\n",
    "----"
   ]
  },
  {
   "cell_type": "code",
   "execution_count": 3,
   "metadata": {},
   "outputs": [
    {
     "data": {
      "text/plain": [
       "20"
      ]
     },
     "execution_count": 3,
     "metadata": {},
     "output_type": "execute_result"
    }
   ],
   "source": [
    "def better_mult(n, m):\n",
    "    total = 0\n",
    "    for i in range(m):\n",
    "        total += n\n",
    "    return total\n",
    "        \n",
    "better_mult(4, 5)"
   ]
  },
  {
   "cell_type": "code",
   "execution_count": 4,
   "metadata": {},
   "outputs": [
    {
     "data": {
      "text/plain": [
       "400"
      ]
     },
     "execution_count": 4,
     "metadata": {},
     "output_type": "execute_result"
    }
   ],
   "source": [
    "better_mult(4, 100)"
   ]
  },
  {
   "cell_type": "markdown",
   "metadata": {},
   "source": [
    "Probably not how we will write multiplication from now on, but far better than our previous version!\n",
    "\n",
    "> ***Exercise:*** <br />\n",
    "> `better_mult(4, 100)` loops 100 times, adding 4 each time. But it could loop 4 times adding 100 each time. Ideally we would minimise the number of times we loop. Can you change the code so that the minimum value of the inputs `n` and `m` is used to control the loop, and the other value is added to the total inside the loop?\n",
    "\n",
    "Notice we are not using the variable called `i` inside the for loop. It is common to use the variable name `i` inside for loops. It is probably named after *index*, although this usage comes from mathematics, it pre-dates programming, so who really knows. You can call your variable whatever you like! Want to add up all of the numbers from 100 to 300?"
   ]
  },
  {
   "cell_type": "code",
   "execution_count": 5,
   "metadata": {},
   "outputs": [
    {
     "data": {
      "text/plain": [
       "40200"
      ]
     },
     "execution_count": 5,
     "metadata": {},
     "output_type": "execute_result"
    }
   ],
   "source": [
    "total = 0\n",
    "for num in range(100, 301):\n",
    "    total += num\n",
    "    \n",
    "total"
   ]
  },
  {
   "cell_type": "markdown",
   "metadata": {},
   "source": [
    "But the reason `i` for index became so common is because we often *do* use the variable as an index. Last section you wrote a function that censored certain strings. Suppose we want to iterate through a string, censoring (replacing with `*`) any vowel – assuming that only `a`, `e`, `i`, `o`, and `u` are vowels for the purposes of this exercise. For now we'll also assume the input string only contains lowercase letters.\n",
    "\n",
    "We can loop through each element of the string and build up our new string along the way:"
   ]
  },
  {
   "cell_type": "code",
   "execution_count": 6,
   "metadata": {},
   "outputs": [
    {
     "data": {
      "text/plain": [
       "'b*ld*rd*sh'"
      ]
     },
     "execution_count": 6,
     "metadata": {},
     "output_type": "execute_result"
    }
   ],
   "source": [
    "def censor_vowels(word):\n",
    "    out_str = \"\"\n",
    "    for i in range(len(word)):\n",
    "        char = word[i]\n",
    "        if char == \"a\" or char == \"e\" or char == \"i\" or char == \"o\" or char == \"u\":\n",
    "            out_str += \"*\"\n",
    "        else:\n",
    "            out_str += char\n",
    "    return out_str\n",
    "\n",
    "censor_vowels(\"balderdash\")"
   ]
  },
  {
   "cell_type": "markdown",
   "metadata": {},
   "source": [
    "***Again*** take some time to sit with this code – read it carefully, modify it, make sure you understand how it works."
   ]
  },
  {
   "cell_type": "markdown",
   "metadata": {},
   "source": [
    "### Advanced For Loops\n",
    "I lied slightly earlier when I told you the syntax of the for loop. We do not have to use the word `range`. We can replace it with any “collection object”. \n",
    "```python\n",
    "for var in collection:\n",
    "    # code goes here\n",
    "```\n",
    "\n",
    "With this code the variable `var` will take on each of the values from `collection` in turn and run the code with each one. The term “collection” here is not meant in a strict Python sense. Technically the correct word is *iterable* but that's not very helpful... the semantics get tricky and I don't want to get bogged down. So, think of a “collection” as any object that contains other objects, or a way of generating other objects. \n",
    "\n",
    "`range(0, 6)` is a kind of collection, it generates the numbers from `0` to `5`. \n",
    "\n",
    "Strings are collections too: they contain characters. We'll come back to what this really means in a later chapter.\n",
    "\n",
    "All Python for loops are what some languages call *for-each loops*. We can read the line of code out loud as \"for each element in collection\". We use `range` to implement the traditional *for loop* using this *for-each loop* syntax.\n",
    "\n",
    "Here is an alternative version of our previous function. The code is slightly cleaner provided you understand what is going on:"
   ]
  },
  {
   "cell_type": "code",
   "execution_count": 7,
   "metadata": {},
   "outputs": [
    {
     "data": {
      "text/plain": [
       "'d*f*n*t* *t*r*t**n'"
      ]
     },
     "execution_count": 7,
     "metadata": {},
     "output_type": "execute_result"
    }
   ],
   "source": [
    "def censor_vowels_v2(word):\n",
    "    out_str = \"\"\n",
    "    for char in word:\n",
    "        if char == \"a\" or char == \"e\" or char == \"i\" or char == \"o\" or char == \"u\":\n",
    "            out_str += \"*\"\n",
    "        else:\n",
    "            out_str += char\n",
    "    return out_str\n",
    "\n",
    "censor_vowels_v2(\"definite iteration\")"
   ]
  },
  {
   "cell_type": "markdown",
   "metadata": {},
   "source": [
    "Let's be explicit about what has changed. I have replaced these two lines:\n",
    "```python\n",
    "for i in range(len(word)):\n",
    "    char = word[i]\n",
    "```\n",
    "with the single line:\n",
    "```python\n",
    "for char in word:\n",
    "```\n",
    "\n",
    "It is not a world of difference. Again, focus on getting your code working first, then worry about alternative ways you could have written it to be more elegant."
   ]
  },
  {
   "cell_type": "markdown",
   "metadata": {},
   "source": [
    "### Indefinite Iteration\n",
    "We also mentioned *indefinite* iteration, where we don't know in advance exactly how many repetitions are required.\n",
    "\n",
    "Here is an interesting little mathematical quirk. Think of a number. Any number. Any positive integer, anyway. Call it $n$, let's say you picked $n=1$, for now. Now apply these rules, over and over:\n",
    "* If the number is odd, then calculate $3n + 1$\n",
    "* If the number is even, then calculate $n \\div 2$\n",
    "\n",
    "We started with $1$, which is odd, so we calculate $3(1) + 1$, which is $4$. <br />\n",
    "$4$ is even so we do $4 \\div 2$ which is $2$ <br />\n",
    "$2$ is even so we do $2 \\div 2$ which is $1$\n",
    "\n",
    "We are back where we started. Obviously this pattern will now repeat: $1 \\rightarrow 4 \\rightarrow 2 \\rightarrow 1 \\rightarrow 4 \\rightarrow 2 \\rightarrow 1 \\rightarrow \\dots$.\n",
    "\n",
    "The remarkable thing about these simple rules is that for any positive integer $n$ we always seem to end up with this pattern. *Eventually* we reach a $1$.\n",
    "\n",
    "Starting with $n=5$ we get: \n",
    "$$5 \\rightarrow 16 \\rightarrow 8 \\rightarrow 4 \\rightarrow 2 \\rightarrow 1$$ \n",
    "A total of $5$ steps to reach $1$.\n",
    "\n",
    "Starting with $n=7$ we get: \n",
    "$$7 \\rightarrow 22 \\rightarrow 11 \\rightarrow 34 \\rightarrow 17 \\rightarrow 52 \\rightarrow 26 \\rightarrow 13 \\rightarrow 40 \\rightarrow 20 \\rightarrow 10 \\rightarrow 5 \\rightarrow 16 \\rightarrow 8 \\rightarrow 4 \\rightarrow 2 \\rightarrow 1$$ \n",
    "A total of $16$ steps to reach $1$.\n",
    "\n",
    "Starting with $n=8$ we get:\n",
    "$$8 \\rightarrow 4 \\rightarrow 2 \\rightarrow 1$$\n",
    "Only 3 steps.\n",
    "\n",
    "$8$ is bigger than $5$ yet takes many fewer steps. The pattern is unpredictable. No one has been able to prove that you will always reach a $1$ – this is a famous unsolved problem called the Collatz conjecture. But it has been confirmed by computer for all integers up to around $10^{20}$ (one hundred quintillion).\n",
    "\n",
    "Back to loops. Given a number `n` we don't know in advance how many times we need to apply the rules to reach `1`, but we can simply keep looping until we reach it. This indefinite iteration is called a **while loop**. It has this syntax:\n",
    "```python\n",
    "while condition:\n",
    "    # code goes here\n",
    "```\n",
    "\n",
    "It's like an if statement but as a loop. `condition` is, like an if statement, a Boolean expression. The loop continues and the code is run *while* the condition evaluates to `True`.\n",
    "\n",
    "Some languages have an until loop – a block of code that loops *until* a condition is True. But we can achieve the same thing with a while loop. For the Collatz conjecture, we want to loop *until* `n == 1`, so in Python we can loop *while* `n != 1`.\n",
    "\n",
    "*(In general: to loop until `condition` is `True`, we can loop while `not condition` is `True`)*"
   ]
  },
  {
   "cell_type": "code",
   "execution_count": 8,
   "metadata": {},
   "outputs": [
    {
     "data": {
      "text/plain": [
       "16"
      ]
     },
     "execution_count": 8,
     "metadata": {},
     "output_type": "execute_result"
    }
   ],
   "source": [
    "def collatz_steps(n):\n",
    "    steps = 0\n",
    "    while n != 1:\n",
    "        steps += 1\n",
    "        if n % 2 == 0:\n",
    "            n //= 2\n",
    "        else:\n",
    "            n = 3*n + 1\n",
    "    return steps\n",
    "\n",
    "collatz_steps(7)"
   ]
  },
  {
   "cell_type": "markdown",
   "metadata": {},
   "source": [
    "While loops can be used to implement definite iteration as well. This pattern of code:\n",
    "\n",
    "```python\n",
    "for i in range(n):\n",
    "    # code goes here\n",
    "```\n",
    "\n",
    "can also be written like this:\n",
    "```python\n",
    "i = 0\n",
    "while i < n:\n",
    "    # code goes here\n",
    "    i += 1\n",
    "```\n",
    "\n",
    "It's a bit more complicated and prone to mistakes, but this is essentially what the for loop is actually doing. Python's for loops are quite flexible, but occasionally it's easier to do what we want when we have the additional control of a while loop.\n",
    "\n",
    "### Infinite Loops\n",
    "There is one thing you need to be careful of, particularly when using while loops: an *infinite* loop. If the condition of the while loop never reaches `False`, then the loop will continue to run until the program is killed.\n",
    "```python\n",
    "while 5 > 2:\n",
    "    # This code will run until it is stopped!\n",
    "```\n",
    "\n",
    "```python\n",
    "while True:\n",
    "    # As will this code\n",
    "```\n",
    "\n",
    "These examples may seem obvious, but if we had used `while n != 0` in our Collatz conjecture code, we would have encountered an infinite loop: no matter how many times we apply the rules, we will never get the value zero, and this might not be obvious to the programmer.\n",
    "\n",
    "If you run the cell below, you will have to hit the stop button ■ to kill the process. It will never end of its own accord. Of course, you might accidentally write code which enters an infinite loop, so you should make sure you know how to handle this in Jupyter. Try running then killing the cell below."
   ]
  },
  {
   "cell_type": "code",
   "execution_count": null,
   "metadata": {},
   "outputs": [],
   "source": [
    "# Warning: if you run this cell nothing will appear to happen – it will enter an infinite loop\n",
    "# Press the stop button ■ on the toolbar with the cell selected to kill the process\n",
    "def collatz_steps_infinite(n):\n",
    "    steps = 0\n",
    "    while n != 0:\n",
    "        steps += 1\n",
    "        if n % 2 == 0:\n",
    "            n //= 2\n",
    "        else:\n",
    "            n = 3*n + 1\n",
    "    return steps\n",
    "\n",
    "collatz_steps_infinite(7)"
   ]
  },
  {
   "cell_type": "markdown",
   "metadata": {},
   "source": [
    "It is possible to write code which breaks out of loops, and so sometimes we deliberately use an infinite loop which we later break out of. We will return to this idea in a later section.\n",
    "\n",
    "\n",
    "### Questions\n",
    "#### Interactive Quiz\n",
    "As usual, run the cell below to answer some quiz comprehension questions."
   ]
  },
  {
   "cell_type": "code",
   "execution_count": null,
   "metadata": {},
   "outputs": [],
   "source": [
    "%run ./scripts/interactive_questions ./questions/1.8.1q.txt"
   ]
  },
  {
   "cell_type": "markdown",
   "metadata": {},
   "source": [
    "#### Question 1: While Loop Censoring\n",
    "Can you write a while loop that censors all the vowels from a lower case string? It should perform exactly like the two `censor_vowels` functions we wrote above which used for loops. For a bonus challenge, try to do it *without* referring back to that code."
   ]
  },
  {
   "cell_type": "code",
   "execution_count": 1,
   "metadata": {},
   "outputs": [
    {
     "name": "stdout",
     "output_type": "stream",
     "text": [
      "Example tests for function censor_vowels_while\n",
      "\n",
      "Test 1/5: censor_vowels_while('hello') -> 'h*ll*'\n",
      "Test 2/5: censor_vowels_while('definite iteration') -> 'd*f*n*t* *t*r*t**n'\n",
      "Test 3/5: censor_vowels_while('aaaaahhhhhh') -> '*****hhhhhh'\n",
      "Test 4/5: censor_vowels_while('*****') -> '*****'\n",
      "Test 5/5: censor_vowels_while('balderdash') -> 'b*ld*rd*sh'\n"
     ]
    }
   ],
   "source": [
    "%run ./scripts/show_examples.py ./questions/1.8/censor_vowels_while"
   ]
  },
  {
   "cell_type": "code",
   "execution_count": null,
   "metadata": {},
   "outputs": [],
   "source": [
    "def censor_vowels_while(word):\n",
    "    pass\n",
    "\n",
    "%run -i ./scripts/function_tester.py ./questions/1.8/censor_vowels_while"
   ]
  },
  {
   "cell_type": "markdown",
   "metadata": {},
   "source": [
    "#### Question 2: The Biggest Letter\n",
    "Did you know that you can compare lowercase strings alphabetically just like we compare numbers numerically? For example:"
   ]
  },
  {
   "cell_type": "code",
   "execution_count": 9,
   "metadata": {},
   "outputs": [
    {
     "data": {
      "text/plain": [
       "True"
      ]
     },
     "execution_count": 9,
     "metadata": {},
     "output_type": "execute_result"
    }
   ],
   "source": [
    "\"z\" > \"a\""
   ]
  },
  {
   "cell_type": "code",
   "execution_count": 10,
   "metadata": {},
   "outputs": [
    {
     "data": {
      "text/plain": [
       "False"
      ]
     },
     "execution_count": 10,
     "metadata": {},
     "output_type": "execute_result"
    }
   ],
   "source": [
    "\"b\" > \"c\""
   ]
  },
  {
   "cell_type": "markdown",
   "metadata": {},
   "source": [
    "Armed with this knowledge, write a function that finds the biggest (alphabetically) character in a given string. If the string is empty, return an empty string.\n",
    "\n",
    "Again we will stick with all lowercase strings for now. Technically this comparison is comparing the numeric values of the characters, and all uppercase letters come before all lowercase letters, so `\"Z\" < \"a\"` returns `True`. But you don't need to worry about that for the exercise."
   ]
  },
  {
   "cell_type": "code",
   "execution_count": 2,
   "metadata": {},
   "outputs": [
    {
     "name": "stdout",
     "output_type": "stream",
     "text": [
      "Example tests for function biggest_letter\n",
      "\n",
      "Test 1/5: biggest_letter('hello') -> 'o'\n",
      "Test 2/5: biggest_letter('while loop') -> 'w'\n",
      "Test 3/5: biggest_letter('zebra') -> 'z'\n",
      "Test 4/5: biggest_letter('fiddledeedee') -> 'l'\n",
      "Test 5/5: biggest_letter('balderdash') -> 's'\n"
     ]
    }
   ],
   "source": [
    "%run ./scripts/show_examples.py ./questions/1.8/biggest_letter"
   ]
  },
  {
   "cell_type": "code",
   "execution_count": null,
   "metadata": {},
   "outputs": [],
   "source": [
    "def biggest_letter(word):\n",
    "    pass\n",
    "\n",
    "%run -i ./scripts/function_tester.py ./questions/1.8/biggest_letter"
   ]
  }
 ],
 "metadata": {
  "kernelspec": {
   "display_name": "Python 3",
   "language": "python",
   "name": "python3"
  },
  "language_info": {
   "codemirror_mode": {
    "name": "ipython",
    "version": 3
   },
   "file_extension": ".py",
   "mimetype": "text/x-python",
   "name": "python",
   "nbconvert_exporter": "python",
   "pygments_lexer": "ipython3",
   "version": "3.7.6"
  }
 },
 "nbformat": 4,
 "nbformat_minor": 2
}
