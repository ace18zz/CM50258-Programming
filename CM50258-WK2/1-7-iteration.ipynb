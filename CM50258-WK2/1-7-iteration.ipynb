{
 "cells": [
  {
   "cell_type": "markdown",
   "metadata": {},
   "source": [
    "## Section 1.7 – Iteration\n",
    "### Repetition\n",
    "As a reminder, we've said that sometimes we want to perform the same action more than once. As a rather simple example, we can try to calculate multiplication as a series of repeated additions, without using the `*` operator. In general, $n \\times m$ is \n",
    "$$\\underbrace{n + n + \\dots + n}_{m \\text{ times}}$$\n",
    "\n",
    "Here is our really bad solution again:"
   ]
  },
  {
   "cell_type": "code",
   "execution_count": null,
   "metadata": {},
   "outputs": [],
   "source": [
    "def mult(n, m):\n",
    "    if m == 1:\n",
    "        return n\n",
    "    elif m == 2:\n",
    "        return n + n\n",
    "    elif m == 3:\n",
    "        return n + n + n\n",
    "    elif m == 4:\n",
    "        return n + n + n + n\n",
    "    \n",
    "mult(5, 4)"
   ]
  },
  {
   "cell_type": "markdown",
   "metadata": {},
   "source": [
    "We get the correct answer for $5 \\times 4$, but as we said, $4 \\times 5$ is not going to work, because we have *hard-coded* the behaviour only up to $m = 4$."
   ]
  },
  {
   "cell_type": "code",
   "execution_count": null,
   "metadata": {},
   "outputs": [],
   "source": [
    "mult(4, 5)"
   ]
  },
  {
   "cell_type": "markdown",
   "metadata": {},
   "source": [
    "Running this cell produces no output because the function does not return anything. If we then tried to use this value somewhere else, we'd probably get an error, but this is a good demonstration of how sometimes misbehaving code is not immediately obvious because it might not immediately produce an error.\n",
    "\n",
    "As we said before, the better way to achieve this goal is to use a loop.\n",
    "\n",
    "### Loops\n",
    "Starting with definite iteration, here is our typical *for loop* for reference:\n",
    "```python\n",
    "for var in range(a,b):\n",
    "    # code goes here\n",
    "```\n",
    "\n",
    "The variable called `var` will take on each integer value in turn starting at `a` and ending at `b-1`, and the code *inside the loop* will run with each value.\n",
    "\n",
    "You can omit the first argument from the `range` function call and the numbers will start from zero instead. So\n",
    "```python\n",
    "for var in range(10):\n",
    "    # code goes here\n",
    "```\n",
    "will loop exactly 10 times: the first value of `var` will be `0`, and the last value will be `9`.\n",
    "\n",
    "Let's see a better version of our manual multiplication in the cell below. \n",
    "\n",
    "----\n",
    "*Note:* In the code below you will see the line:\n",
    "```python\n",
    "total += n\n",
    "```\n",
    "This is exactly the same as writing:\n",
    "```python\n",
    "total = total + n\n",
    "```\n",
    "Again, just a nice shortcut that Python offers, since we do this kind of thing a lot. The other “update and assign” operators you'd expect also exist: `-=`, `*=`, and `/=`.\n",
    "\n",
    "----"
   ]
  },
  {
   "cell_type": "code",
   "execution_count": null,
   "metadata": {},
   "outputs": [],
   "source": [
    "def better_mult(n, m):\n",
    "    total = 0\n",
    "    for i in range(m):\n",
    "        total += n\n",
    "    return total\n",
    "        \n",
    "better_mult(4, 5)"
   ]
  },
  {
   "cell_type": "code",
   "execution_count": null,
   "metadata": {},
   "outputs": [],
   "source": [
    "better_mult(4, 100)"
   ]
  },
  {
   "cell_type": "markdown",
   "metadata": {},
   "source": [
    "Probably not how we will write multiplication from now on, but far better than our previous version!\n",
    "\n",
    "> ***Exercise:*** <br />\n",
    "> `better_mult(4, 100)` loops 100 times, adding 4 each time. But it could loop 4 times adding 100 each time. Ideally we would minimise the number of times we loop. Can you change the code so that the minimum value of the inputs `n` and `m` is used to control the loop, and the other value is added to the total inside the loop?\n",
    "\n",
    "Notice we are not using the variable called `i` inside the for loop. It is common to use the variable name `i` inside for loops. It is probably named after *index*, although this usage comes from mathematics, it pre-dates programming, so who really knows. You can call your variable whatever you like! Want to add up all of the numbers from 100 to 300?"
   ]
  },
  {
   "cell_type": "code",
   "execution_count": null,
   "metadata": {},
   "outputs": [],
   "source": [
    "total = 0\n",
    "for num in range(100, 301):\n",
    "    total += num\n",
    "    \n",
    "total"
   ]
  },
  {
   "cell_type": "markdown",
   "metadata": {},
   "source": [
    "### Indefinite Iteration\n",
    "We also mentioned *indefinite* iteration, where we don't know in advance exactly how many repetitions are required.\n",
    "\n",
    "Here is an interesting little mathematical quirk. Think of a number. Any number. Any positive integer, anyway. Call it $n$, let's say you picked $n=1$, for now. Now apply these rules, over and over:\n",
    "* If the number is odd, then calculate $3n + 1$\n",
    "* If the number is even, then calculate $n \\div 2$\n",
    "\n",
    "We started with $1$, which is odd, so we calculate $3(1) + 1$, which is $4$. <br />\n",
    "$4$ is even so we do $4 \\div 2$ which is $2$ <br />\n",
    "$2$ is even so we do $2 \\div 2$ which is $1$\n",
    "\n",
    "We are back where we started. Obviously this pattern will now repeat: $1 \\rightarrow 4 \\rightarrow 2 \\rightarrow 1 \\rightarrow 4 \\rightarrow 2 \\rightarrow 1 \\rightarrow \\dots$.\n",
    "\n",
    "The remarkable thing about these simple rules is that for any positive integer $n$ we always seem to end up with this pattern. *Eventually* we reach a $1$.\n",
    "\n",
    "Starting with $n=5$ we get: \n",
    "$$5 \\rightarrow 16 \\rightarrow 8 \\rightarrow 4 \\rightarrow 2 \\rightarrow 1$$ \n",
    "A total of $5$ steps to reach $1$.\n",
    "\n",
    "Starting with $n=7$ we get: \n",
    "$$7 \\rightarrow 22 \\rightarrow 11 \\rightarrow 34 \\rightarrow 17 \\rightarrow 52 \\rightarrow 26 \\rightarrow 13 \\rightarrow 40 \\rightarrow 20 \\rightarrow 10 \\rightarrow 5 \\rightarrow 16 \\rightarrow 8 \\rightarrow 4 \\rightarrow 2 \\rightarrow 1$$ \n",
    "A total of $16$ steps to reach $1$.\n",
    "\n",
    "Starting with $n=8$ we get:\n",
    "$$8 \\rightarrow 4 \\rightarrow 2 \\rightarrow 1$$\n",
    "Only 3 steps.\n",
    "\n",
    "$8$ is bigger than $5$ yet takes many fewer steps. The pattern is unpredictable. No one has been able to prove that you will always reach a $1$ – this is a famous unsolved problem called the Collatz conjecture. But it has been confirmed by computer for all integers up to around $10^{20}$ (one hundred quintillion).\n",
    "\n",
    "Back to loops. Given a number `n` we don't know in advance how many times we need to apply the rules to reach `1`, but we can simply keep looping until we reach it. This indefinite iteration is called a **while loop**. It has this syntax:\n",
    "```python\n",
    "while condition:\n",
    "    # code goes here\n",
    "```\n",
    "\n",
    "It's like an if statement but as a loop. `condition` is, like an if statement, a Boolean expression. The loop continues and the code is run *while* the condition evaluates to `True`.\n",
    "\n",
    "Some languages have an until loop – a block of code that loops *until* a condition is True. But we can achieve the same thing with a while loop. For the Collatz conjecture, we want to loop *until* `n == 1`, so in Python we can loop *while* `n != 1`.\n",
    "\n",
    "*(In general: to loop until `condition` is `True`, we can loop while `not condition` is `True`)*"
   ]
  },
  {
   "cell_type": "code",
   "execution_count": null,
   "metadata": {},
   "outputs": [],
   "source": [
    "def collatz_steps(n):\n",
    "    steps = 0\n",
    "    while n != 1:\n",
    "        steps += 1\n",
    "        if n % 2 == 0:\n",
    "            n //= 2\n",
    "        else:\n",
    "            n = 3*n + 1\n",
    "    return steps\n",
    "\n",
    "collatz_steps(7)"
   ]
  },
  {
   "cell_type": "markdown",
   "metadata": {},
   "source": [
    "While loops can be used to implement definite iteration as well. This pattern of code:\n",
    "\n",
    "```python\n",
    "for i in range(n):\n",
    "    # code goes here\n",
    "```\n",
    "\n",
    "can also be written like this:\n",
    "```python\n",
    "i = 0\n",
    "while i < n:\n",
    "    # code goes here\n",
    "    i += 1\n",
    "```\n",
    "\n",
    "It's a bit more complicated and prone to mistakes, but this is essentially what the for loop is actually doing. Python's for loops are quite flexible, but occasionally it's easier to do what we want when we have the additional control of a while loop.\n",
    "\n",
    "### Infinite Loops\n",
    "There is one thing you need to be careful of, particularly when using while loops: an *infinite* loop. If the condition of the while loop never reaches `False`, then the loop will continue to run until the program is killed.\n",
    "```python\n",
    "while 5 > 2:\n",
    "    # This code will run until it is stopped!\n",
    "```\n",
    "\n",
    "```python\n",
    "while True:\n",
    "    # As will this code\n",
    "```\n",
    "\n",
    "These examples may seem obvious, but if we had used `while n != 0` in our Collatz conjecture code, we would have encountered an infinite loop: no matter how many times we apply the rules, we will never get the value zero, and this might not be obvious to the programmer.\n",
    "\n",
    "If you run the cell below, you will have to hit the stop button ■ to kill the process. It will never end of its own accord. Of course, you might accidentally write code which enters an infinite loop, so you should make sure you know how to handle this in Jupyter. Try running then killing the cell below."
   ]
  },
  {
   "cell_type": "code",
   "execution_count": null,
   "metadata": {},
   "outputs": [],
   "source": [
    "# Warning: if you run this cell nothing will appear to happen – it will enter an infinite loop\n",
    "# Press the stop button ■ on the toolbar with the cell selected to kill the process\n",
    "def collatz_steps_infinite(n):\n",
    "    steps = 0\n",
    "    while n != 0:\n",
    "        steps += 1\n",
    "        if n % 2 == 0:\n",
    "            n //= 2\n",
    "        else:\n",
    "            n = 3*n + 1\n",
    "    return steps\n",
    "\n",
    "collatz_steps_infinite(7)"
   ]
  },
  {
   "cell_type": "markdown",
   "metadata": {},
   "source": [
    "It is possible to write code which breaks out of loops, and so sometimes we deliberately use an infinite loop which we later break out of. We will return to this idea in a later section.\n",
    "\n",
    "\n",
    "### Questions\n",
    "#### Interactive Quiz\n",
    "As usual, run the cell below to answer some quiz comprehension questions."
   ]
  },
  {
   "cell_type": "code",
   "execution_count": null,
   "metadata": {},
   "outputs": [],
   "source": [
    "%run ./scripts/interactive_questions ./questions/1.8.1q.txt"
   ]
  }
 ],
 "metadata": {
  "kernelspec": {
   "display_name": "Python 3",
   "language": "python",
   "name": "python3"
  },
  "language_info": {
   "codemirror_mode": {
    "name": "ipython",
    "version": 3
   },
   "file_extension": ".py",
   "mimetype": "text/x-python",
   "name": "python",
   "nbconvert_exporter": "python",
   "pygments_lexer": "ipython3",
   "version": "3.7.6"
  }
 },
 "nbformat": 4,
 "nbformat_minor": 2
}
