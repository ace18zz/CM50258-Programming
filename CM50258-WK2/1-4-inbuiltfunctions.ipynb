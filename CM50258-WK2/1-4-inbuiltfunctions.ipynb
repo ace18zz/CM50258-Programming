{
 "cells": [
  {
   "cell_type": "markdown",
   "metadata": {},
   "source": [
    "# Week 1 Part 2 – Code Structure\n",
    "## Section 1.4 Inbuilt Functions\n",
    "### Functions\n",
    "Here is a reminder of some of the definitions we've introduced:\n",
    "* Function – named block of code\n",
    "* Calling (a function) – when we run a function from somewhere else in the code\n",
    "* Parameters – the inputs to a function from its point of view (e.g. a function with two parameters)\n",
    "* Arguments – the actual data *passed into* a function when we call it\n",
    "* Return value – the output of a function\n",
    "\n",
    "The syntax for calling a function with three parameters is:\n",
    "```python\n",
    "function_name(arg_1, arg_2, arg_3)\n",
    "```\n",
    "\n",
    "We saw functions like `type` and `round` in previous notebooks. Let's focus on `round` for a second. Here is another example of its use:"
   ]
  },
  {
   "cell_type": "code",
   "execution_count": null,
   "metadata": {},
   "outputs": [],
   "source": [
    "round(10.6)"
   ]
  },
  {
   "cell_type": "markdown",
   "metadata": {},
   "source": [
    "In this example\n",
    "```python\n",
    "round(10.6)\n",
    "```\n",
    "the function is `round`, the argument is `10.6`, and the return value is `10`.\n",
    "\n",
    "Here is another example:"
   ]
  },
  {
   "cell_type": "code",
   "execution_count": null,
   "metadata": {},
   "outputs": [],
   "source": [
    "pow(2, 5)"
   ]
  },
  {
   "cell_type": "markdown",
   "metadata": {},
   "source": [
    "The name is `pow`, and when the arguments are `2` and `5` the return value is `32`.\n",
    "\n",
    "Can you work out what it does from the name and the values shown? \n",
    "\n",
    "Remember you can always try changing the values and rerunning the cell! Try that before moving on.\n",
    "\n",
    "`pow(x, y)` calculates `x` to the power of `y`. Or written mathematically: $x^y$.\n",
    "\n",
    "We can also write this in Python using the `**` **operator**:"
   ]
  },
  {
   "cell_type": "code",
   "execution_count": null,
   "metadata": {},
   "outputs": [],
   "source": [
    "2 ** 5"
   ]
  },
  {
   "cell_type": "markdown",
   "metadata": {},
   "source": [
    "The difference between these two forms is *basically* just syntax. We call `**` an operator, and `pow` a function, but they both take two numbers as inputs and they both return a single number.\n",
    "\n",
    "You saw many other arithmetic and Boolean operators in chapter 1, such as addition `+` or NOT `not`. You can think of all operators as being a special syntax for common functions. \n",
    "\n",
    "We can mix and match operators and functions to create big expressions: "
   ]
  },
  {
   "cell_type": "code",
   "execution_count": null,
   "metadata": {},
   "outputs": [],
   "source": [
    "((2-3) + round(10 / 3)) ** 2"
   ]
  },
  {
   "cell_type": "markdown",
   "metadata": {},
   "source": [
    "### Procedures\n",
    "We said earlier that functions *may* return values. This was a slight abuse of terminology. Technically, a **function** is a special type of **subroutine**. All **functions** return values. Some **subroutines** do not return values, and these are called **procedures**. It is common in everyday usage to be lax with the precise use of these terms, and in this unit we will mostly use the word function unless we are trying to make a specific point.\n",
    "\n",
    "There are a few builtin Python procedures that we will come across in later chapters. For now, here's one that is quite unusual but extremely helpful, as you might have guessed from the name, it is called `help`:"
   ]
  },
  {
   "cell_type": "code",
   "execution_count": null,
   "metadata": {
    "scrolled": true
   },
   "outputs": [],
   "source": [
    "help(round)"
   ]
  },
  {
   "cell_type": "markdown",
   "metadata": {},
   "source": [
    "When we use the `help` procedure, we get some information about whatever *object* we pass in. This information is not *returned*, it is simply displayed on the screen. So `help` really is a procedure. \n",
    "\n",
    "You cannot assign `help(round)` to a variable. Well... you can, but the variable will be empty afterwards."
   ]
  },
  {
   "cell_type": "code",
   "execution_count": null,
   "metadata": {},
   "outputs": [],
   "source": [
    "# this cell shows the help information as you'd expect\n",
    "help_return = help(round)"
   ]
  },
  {
   "cell_type": "code",
   "execution_count": null,
   "metadata": {},
   "outputs": [],
   "source": [
    "# when you run this cell nothing happens, because help_return is empty\n",
    "help_return"
   ]
  },
  {
   "cell_type": "markdown",
   "metadata": {},
   "source": [
    "The value currently stored in `help_return` is strange. The cell does not produce an error, but nothing is shown in the output box. It is a special 'empty' value called `None`. For now, do not worry about it, we will come back to it in future material.\n",
    "\n",
    "Jupyter has another help feature that will show a popup window when you run it – we can write a question mark before any function we want to learn more about. This is definitely *doing something* rather than *returning something*. Nothing shows below the cell at all.\n",
    "\n",
    "The distinction between procedure and function is very similar to the one between statement and expression. Try running the cell below."
   ]
  },
  {
   "cell_type": "code",
   "execution_count": null,
   "metadata": {},
   "outputs": [],
   "source": [
    "?round"
   ]
  },
  {
   "cell_type": "markdown",
   "metadata": {},
   "source": [
    "Both of these help features can be really useful when you are learning to program, but remember that the help page is not necessarily written for beginners. The one for `round` is short and sweet. You can always try, and if it is confusing, try looking elsewhere online. Of course, you will never see the `help` procedure inside a real production program. It is only used while you are writing code and trying to work out what something does.\n",
    "\n",
    "\n",
    "### Some More Examples\n",
    "Here are three more inbuilt functions you might find useful in future: `max(x, y)`, `min(x, y)`, and `abs(x)`. They all take numbers as arguments. Experiment with the cell below to see if you can work out what each one does, even if you think it is obvious from the names. You could try some example arguments, or use the help procedure."
   ]
  },
  {
   "cell_type": "code",
   "execution_count": null,
   "metadata": {},
   "outputs": [],
   "source": [
    "# try using the functions max(x, y), min(x, y), and abs(x) here!\n",
    "# examples: max(3, 5), min(-1, 10), abs(-10)"
   ]
  },
  {
   "cell_type": "markdown",
   "metadata": {},
   "source": [
    "\n",
    "\n",
    "### Questions\n",
    "Have a go at the quiz for this section in the cell below!"
   ]
  },
  {
   "cell_type": "code",
   "execution_count": null,
   "metadata": {
    "scrolled": true
   },
   "outputs": [],
   "source": [
    "%run ./scripts/interactive_questions ./questions/1.5.1q.txt"
   ]
  }
 ],
 "metadata": {
  "kernelspec": {
   "display_name": "Python 3",
   "language": "python",
   "name": "python3"
  },
  "language_info": {
   "codemirror_mode": {
    "name": "ipython",
    "version": 3
   },
   "file_extension": ".py",
   "mimetype": "text/x-python",
   "name": "python",
   "nbconvert_exporter": "python",
   "pygments_lexer": "ipython3",
   "version": "3.7.6"
  }
 },
 "nbformat": 4,
 "nbformat_minor": 2
}
